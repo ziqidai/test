{
 "cells": [
  {
   "cell_type": "code",
   "execution_count": null,
   "id": "616b7c4d",
   "metadata": {},
   "outputs": [],
   "source": [
    "# !pip install selenium\n",
    "# !pip install -U --user seleniumbase"
   ]
  },
  {
   "cell_type": "code",
   "execution_count": null,
   "id": "d37c0d87",
   "metadata": {},
   "outputs": [],
   "source": [
    "# !pip install pyautoit"
   ]
  },
  {
   "cell_type": "markdown",
   "id": "c86eeaa4",
   "metadata": {},
   "source": [
    "First: import some necessary libraries"
   ]
  },
  {
   "cell_type": "code",
   "execution_count": 1,
   "id": "b692e602",
   "metadata": {},
   "outputs": [],
   "source": [
    "from seleniumbase import BaseCase\n",
    "from selenium import webdriver\n",
    "import time\n",
    "import autoit\n",
    "\n",
    "from selenium.webdriver.common.by import By\n",
    "from selenium.webdriver.support.wait import WebDriverWait\n",
    "from selenium.webdriver.support import expected_conditions as EC\n",
    "from selenium.webdriver.common.keys import Keys\n",
    "from selenium.webdriver.common.action_chains import ActionChains\n",
    "\n",
    "import numpy as np\n",
    "import pandas as pd\n",
    "import clipboard as c"
   ]
  },
  {
   "cell_type": "markdown",
   "id": "aa7493f3",
   "metadata": {},
   "source": [
    "Then start the Chrome browser to do the task"
   ]
  },
  {
   "cell_type": "code",
   "execution_count": 22,
   "id": "17ac9c62",
   "metadata": {},
   "outputs": [],
   "source": [
    "driver = webdriver.Chrome()"
   ]
  },
  {
   "cell_type": "code",
   "execution_count": 18,
   "id": "cc2af0a7",
   "metadata": {},
   "outputs": [],
   "source": [
    "df1 = pd.read_csv('kongPao.csv')"
   ]
  },
  {
   "cell_type": "code",
   "execution_count": 23,
   "id": "257d87e5",
   "metadata": {},
   "outputs": [],
   "source": [
    "#get the url of the picture\n",
    "df = pd.read_csv('kongPao.csv')\n",
    "df.columns = df.iloc[0]\n",
    "df = df[1:]\n",
    "df_url = pd.DataFrame(df[\"product image URL\"])\n",
    "df_url = df_url.dropna()\n",
    "c.copy(df_url[\"product image URL\"][15]) # change the number here to get the nth picture from the Excel sheet\n",
    "\n",
    "driver.get(\"https://www.cutout.pro/photo-editing-background/upload\")\n",
    "# driver.maximize_window()\n"
   ]
  },
  {
   "cell_type": "markdown",
   "id": "523101b7",
   "metadata": {},
   "source": [
    "Login to the webpage by the given account"
   ]
  },
  {
   "cell_type": "code",
   "execution_count": 24,
   "id": "918e10b2",
   "metadata": {},
   "outputs": [],
   "source": [
    "wait = WebDriverWait(driver, 10)\n",
    "wait.until(EC.element_to_be_clickable((By.XPATH, '//*[@id=\"app\"]/div[1]/div[1]/div/div[1]/header/div/div[2]/div[2]/div/button')))\n",
    "\n",
    "login = driver.find_element('xpath', '//*[@id=\"app\"]/div[1]/div[1]/div/div[1]/header/div/div[2]/div[2]/div/button')\n",
    "login.click()"
   ]
  },
  {
   "cell_type": "code",
   "execution_count": 25,
   "id": "5447dc60",
   "metadata": {},
   "outputs": [],
   "source": [
    "email = driver.find_element(By.CSS_SELECTOR, \"input[type=text]\");\n",
    "email.send_keys(\"ken.li@heyremotekitchen.com\")\n",
    "password = driver.find_element(By.CSS_SELECTOR, \"input[type=password]\");\n",
    "password.send_keys(\"Napoleon1226!\")\n",
    "loginButton = driver.find_element('xpath', '//*[@id=\"modalMask\"]/div/div/div/div/div[3]/button')\n",
    "loginButton.click()\n",
    "time.sleep(3)\n"
   ]
  },
  {
   "cell_type": "markdown",
   "id": "cba83d4e",
   "metadata": {},
   "source": [
    "Wait until the web page ready to get the file, then paste the image by pressing CTRL + V"
   ]
  },
  {
   "cell_type": "code",
   "execution_count": 27,
   "id": "7cec91cf",
   "metadata": {},
   "outputs": [],
   "source": [
    "wait = WebDriverWait(driver, 10)\n",
    "wait.until(EC.presence_of_element_located((By.XPATH, '//*[@id=\"app\"]/div/input')))\n",
    "autoit.send(\"^v\")"
   ]
  },
  {
   "cell_type": "code",
   "execution_count": null,
   "id": "31a933db",
   "metadata": {},
   "outputs": [],
   "source": [
    "# uploadButton = driver.find_element(By.CSS_SELECTOR, \"button.drag-drop-btn\");\n",
    "# uploadButton.click();\n",
    "\n",
    "# time.sleep(3)\n",
    "# autoit.send(\"{ESC}\")\n",
    "\n",
    "# time.sleep(3)\n",
    "# autoit.control_send(\"[CLASS:#32770]\", \"Edit1\", \"C:\\\\Users\\\\User\\\\Documents\\\\Remote Kitchens\\\\images\\\\image15.jpg\")\n",
    "# autoit.control_click(\"[CLASS:#32770]\", \"Button1\")"
   ]
  },
  {
   "cell_type": "code",
   "execution_count": null,
   "id": "859e1db3",
   "metadata": {
    "scrolled": true
   },
   "outputs": [],
   "source": [
    "# fileUpload = driver.find_element(By.CSS_SELECTOR, \"#app > div > input[type=file]\");\n",
    "\n",
    "\n",
    "\n"
   ]
  },
  {
   "cell_type": "code",
   "execution_count": null,
   "id": "b5610265",
   "metadata": {},
   "outputs": [],
   "source": []
  },
  {
   "cell_type": "code",
   "execution_count": 28,
   "id": "4d413f83",
   "metadata": {},
   "outputs": [],
   "source": [
    "# close the Recommend section (ads)\n",
    "closeAds = driver.find_element(By.CLASS_NAME, \"closeIcon\")\n",
    "webdriver.ActionChains(driver).move_to_element(closeAds).click(closeAds).perform()\n",
    "\n",
    "wait = WebDriverWait(driver, 10)\n",
    "wait.until(EC.presence_of_element_located((By.CSS_SELECTOR, \"a.jump-over\")))\n",
    "\n",
    "# turn off the pop-up section generated by the webpage\n",
    "skipBtn = driver.find_element(By.CSS_SELECTOR, \"a.jump-over\")\n",
    "webdriver.ActionChains(driver).move_to_element(skipBtn).click(skipBtn).perform()"
   ]
  },
  {
   "cell_type": "code",
   "execution_count": 29,
   "id": "1480ab3a",
   "metadata": {},
   "outputs": [],
   "source": [
    "# Click resize and other buttons to do the resize\n",
    "wait = WebDriverWait(driver, 20)\n",
    "wait.until(EC.element_to_be_clickable((By.CSS_SELECTOR, 'div.resize')))\n",
    "resizeBtn = driver.find_element(By.CSS_SELECTOR, 'div.resize')\n",
    "webdriver.ActionChains(driver).move_to_element(resizeBtn).click(resizeBtn).perform()\n",
    "\n",
    "wait = WebDriverWait(driver, 20)\n",
    "wait.until(EC.presence_of_element_located((By.CSS_SELECTOR, \"button.mdi-eraser\")))\n",
    "eraseOpt = driver.find_element(By.CSS_SELECTOR, \"button.mdi-eraser\");\n",
    "webdriver.ActionChains(driver).move_to_element(eraseOpt).click(eraseOpt).perform()\n",
    "moveOpt = driver.find_element(By.CSS_SELECTOR, 'div.three-button > div.move')\n",
    "webdriver.ActionChains(driver).move_to_element(moveOpt).click(moveOpt).perform()\n",
    "\n",
    "cropBtn = driver.find_element(By.CSS_SELECTOR, 'button.mdi-crop')\n",
    "webdriver.ActionChains(driver).move_to_element(cropBtn).click(cropBtn).perform()\n",
    "\n",
    "\n"
   ]
  },
  {
   "cell_type": "code",
   "execution_count": 30,
   "id": "24d42a42",
   "metadata": {},
   "outputs": [],
   "source": [
    "# Edit the custom size to 1600 x 900 and click Apply\n",
    "size2 = driver.find_element(By.CSS_SELECTOR, '#input-193')\n",
    "size2.send_keys(Keys.CONTROL + \"a\")\n",
    "size2.send_keys(\"900\")\n",
    "\n",
    "size1 = driver.find_element(By.CSS_SELECTOR, '#input-190')\n",
    "size1.send_keys(Keys.CONTROL + \"a\")\n",
    "size1.send_keys(\"1600\")\n",
    "\n",
    "applyBtn = driver.find_element(By.CSS_SELECTOR, 'div.customSize > div.customBotton')\n",
    "webdriver.ActionChains(driver).move_to_element(applyBtn).click(applyBtn).perform()\n",
    "\n",
    "time.sleep(5)\n"
   ]
  },
  {
   "cell_type": "code",
   "execution_count": 31,
   "id": "52bce8df",
   "metadata": {},
   "outputs": [
    {
     "name": "stdout",
     "output_type": "stream",
     "text": [
      "<selenium.webdriver.remote.webelement.WebElement (session=\"1f94b77ffb2d8370c6c01da0ae8adce5\", element=\"3e1fd104-88d5-4ee2-8817-f38756c15a86\")>\n",
      "<selenium.webdriver.remote.webelement.WebElement (session=\"1f94b77ffb2d8370c6c01da0ae8adce5\", element=\"0827e9a7-e069-4261-8365-2329feecb38a\")>\n"
     ]
    }
   ],
   "source": [
    "# Edit the image on the canvas by drag and drop actions.\n",
    "canvas = driver.find_elements(By.TAG_NAME, \"canvas\")[0]\n",
    "\n",
    "iconResize = driver.find_element(By.CLASS_NAME, \"iSeven\")\n",
    "\n",
    "wait = WebDriverWait(driver, 20)\n",
    "wait.until(EC.presence_of_element_located((By.CLASS_NAME, \"iSeven\")))\n",
    "\n",
    "webdriver.ActionChains(driver).drag_and_drop(iconResize, canvas).perform()\n",
    "\n",
    "image = driver.find_element(By.CLASS_NAME, \"main-left-inner-cover\")\n",
    "webdriver.ActionChains(driver).drag_and_drop(image, canvas).perform()\n",
    "\n",
    "print(canvas)\n",
    "print(iconResize)\n",
    "\n"
   ]
  },
  {
   "cell_type": "code",
   "execution_count": 32,
   "id": "40307bb5",
   "metadata": {},
   "outputs": [],
   "source": [
    "# Click Done after finishing all editing actions.\n",
    "doneBtn = driver.find_element(By.CSS_SELECTOR, 'div.right > button.elevation-2')\n",
    "webdriver.ActionChains(driver).move_to_element(doneBtn).click(doneBtn).perform()"
   ]
  },
  {
   "cell_type": "code",
   "execution_count": 33,
   "id": "25572b4c",
   "metadata": {
    "scrolled": true
   },
   "outputs": [
    {
     "name": "stdout",
     "output_type": "stream",
     "text": [
      "<selenium.webdriver.remote.webelement.WebElement (session=\"1f94b77ffb2d8370c6c01da0ae8adce5\", element=\"a5f23208-b82d-4241-8fdd-52f2e9e87eee\")>\n",
      "<selenium.webdriver.remote.webelement.WebElement (session=\"1f94b77ffb2d8370c6c01da0ae8adce5\", element=\"aae083e3-94e2-41b4-a86c-d3369920e22d\")>\n",
      "<selenium.webdriver.remote.webelement.WebElement (session=\"1f94b77ffb2d8370c6c01da0ae8adce5\", element=\"161e7664-9f97-4974-a974-dc6c3cdcd99c\")>\n",
      "<selenium.webdriver.remote.webelement.WebElement (session=\"1f94b77ffb2d8370c6c01da0ae8adce5\", element=\"e1166613-28f6-4828-a930-1a5d91d1a4cd\")>\n"
     ]
    }
   ],
   "source": [
    "# Choose the backgroud image and click \"Generate\" so that the webpage will generate the needed images with new background.\n",
    "\n",
    "bkground1 = driver.find_element(By.CSS_SELECTOR, \".three-line > div:nth-child(1)\");\n",
    "print(bkground1)\n",
    "bkground2 = driver.find_element(By.CSS_SELECTOR, \".three-line > div:nth-child(7)\")\n",
    "print(bkground2)\n",
    "bkground3 = driver.find_element(By.CSS_SELECTOR, \".three-line > div:nth-child(3)\")\n",
    "print(bkground3)\n",
    "bkground4 = driver.find_element(By.CSS_SELECTOR, \".three-line > div:nth-child(5)\")\n",
    "print(bkground4)\n",
    "\n",
    "webdriver.ActionChains(driver).move_to_element(bkground1).click(bkground1).perform()\n",
    "webdriver.ActionChains(driver).move_to_element(bkground2).click(bkground2).perform()\n",
    "webdriver.ActionChains(driver).move_to_element(bkground3).click(bkground3).perform()\n",
    "webdriver.ActionChains(driver).move_to_element(bkground4).click(bkground4).perform()\n",
    "\n",
    "# wait = WebDriverWait(driver, 20)\n",
    "# wait.until(EC.element_to_be_clickable((By.XPATH, '//*[@id=\"app\"]/div/div[1]/div/div/div[4]/div[3]/button')))\n",
    "\n",
    "generateBtn = driver.find_element(By.CSS_SELECTOR, \".generate > button\")\n",
    "webdriver.ActionChains(driver).move_to_element(generateBtn).click(generateBtn).perform()"
   ]
  },
  {
   "cell_type": "markdown",
   "id": "7dd4c66c",
   "metadata": {},
   "source": [
    "For the following code: I am planning to use for automatic downloading action. However, because of the time limit, I tried my best but I can't finish it. I am so sorry about that. Hope I can learn from you about this one later."
   ]
  },
  {
   "cell_type": "code",
   "execution_count": null,
   "id": "b6afb268",
   "metadata": {},
   "outputs": [],
   "source": [
    "# # time.sleep(30)\n",
    "# wait = WebDriverWait(driver, 20)\n",
    "# wait.until(EC.element_to_be_clickable((By.CSS_SELECTOR, \".generate > button\")))\n",
    "\n",
    "# # download1 = driver.find_element(By.CSS_SELECTOR, \"div.history-single > div.second > div:nth-child(1) > div > div\");\n",
    "# # download2 = driver.find_element(By.CSS_SELECTOR, \"div.history-single > div.second > div:nth-child(2) > div > div\");\n",
    "# # download3 = driver.find_element(By.CSS_SELECTOR, \"div.history-single > div.second > div:nth-child(3) > div > div\");\n",
    "# # download4 = driver.find_element(By.CSS_SELECTOR, \"div.history-single > div.second > div:nth-child(4) > div > div\");\n",
    "\n",
    "# # webdriver.ActionChains(driver).move_to_element(download1).click(download1).perform()\n",
    "# # webdriver.ActionChains(driver).move_to_element(download2).click(download2).perform()\n",
    "# # webdriver.ActionChains(driver).move_to_element(download3).click(download3).perform()\n",
    "# # webdriver.ActionChains(driver).move_to_element(download4).click(download4).perform()\n",
    "\n",
    "# img1 = driver.find_element(By.CSS_SELECTOR, \"div.history-single > div.second > div:nth-child(1)\");\n",
    "# img2 = driver.find_element(By.CSS_SELECTOR, \"div.history-single > div.second > div:nth-child(2)\");\n",
    "# img3 = driver.find_element(By.CSS_SELECTOR, \"div.history-single > div.second > div:nth-child(3)\");\n",
    "# img4 = driver.find_element(By.CSS_SELECTOR, \"div.history-single > div.second > div:nth-child(4)\");\n",
    "\n",
    "# actions = ActionChains(driver)\n",
    "\n",
    "# actions.move_to_element(img1)\n",
    "# download1 = driver.find_element(By.CSS_SELECTOR, \"div.history-single > div.second > div:nth-child(1) > div > div\");\n",
    "# actions.move_to_element(download1).perform()\n",
    "# wait.until(EC.element_to_be_clickable((By.CSS_SELECTOR, \"div.history-single > div.second > div:nth-child(1) > div > div\")))\n",
    "# actions.click(download1).perform()\n",
    "\n",
    "# download2 = driver.find_element(By.CSS_SELECTOR, \"div.history-single > div.second > div:nth-child(2) > div > div\");\n",
    "# download3 = driver.find_element(By.CSS_SELECTOR, \"div.history-single > div.second > div:nth-child(3) > div > div\");\n",
    "# download4 = driver.find_element(By.CSS_SELECTOR, \"div.history-single > div.second > div:nth-child(4) > div > div\");\n",
    "# print(download1)\n",
    "# print(download2)\n",
    "# print(download3)\n",
    "# print(download4)\n",
    "\n",
    "\n",
    "\n",
    "# actions.move_to_element(img2)\n",
    "# actions.move_to_element(download2)\n",
    "# time.sleep(3)\n",
    "# actions.click(download2).click(download2).perform()\n",
    "\n",
    "# actions.move_to_element(img3)\n",
    "# actions.move_to_element(download3)\n",
    "# time.sleep(3)\n",
    "# actions.click(download3).click(download3).perform()\n",
    "\n",
    "# actions.move_to_element(img4)\n",
    "# actions.move_to_element(download4)\n",
    "# time.sleep(3)\n",
    "# actions.click(download4).click(download4).perform()"
   ]
  },
  {
   "cell_type": "code",
   "execution_count": null,
   "id": "4ff928f6",
   "metadata": {},
   "outputs": [],
   "source": []
  }
 ],
 "metadata": {
  "kernelspec": {
   "display_name": "Python 3 (ipykernel)",
   "language": "python",
   "name": "python3"
  },
  "language_info": {
   "codemirror_mode": {
    "name": "ipython",
    "version": 3
   },
   "file_extension": ".py",
   "mimetype": "text/x-python",
   "name": "python",
   "nbconvert_exporter": "python",
   "pygments_lexer": "ipython3",
   "version": "3.9.7"
  }
 },
 "nbformat": 4,
 "nbformat_minor": 5
}
